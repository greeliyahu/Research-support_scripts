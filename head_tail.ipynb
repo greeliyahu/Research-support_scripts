{
 "cells": [
  {
   "cell_type": "code",
   "execution_count": null,
   "id": "ffb86fde",
   "metadata": {},
   "outputs": [],
   "source": [
    "### Head-Tail breaks clustering algorithm realization ###"
   ]
  },
  {
   "cell_type": "code",
   "execution_count": null,
   "id": "786c7586",
   "metadata": {},
   "outputs": [],
   "source": [
    "# import modules\n",
    "import pandas as pd\n",
    "import statistics as st"
   ]
  },
  {
   "cell_type": "code",
   "execution_count": null,
   "id": "32ea68c1",
   "metadata": {},
   "outputs": [],
   "source": [
    "# set file path\n",
    "path = 'C:/folder'\n",
    "file = path + '/source.xlsx'\n",
    "output = path + '/clusters.xlsx'"
   ]
  },
  {
   "cell_type": "code",
   "execution_count": null,
   "id": "b9bd078c",
   "metadata": {},
   "outputs": [],
   "source": [
    "# set params for reading excel file\n",
    "sheet_name = 'HK_10' # choose the sheet\n",
    "use_cols = 'B:J' # choose the columns to use"
   ]
  },
  {
   "cell_type": "code",
   "execution_count": null,
   "id": "0b812b46",
   "metadata": {},
   "outputs": [],
   "source": [
    "# read integration data from the excel file\n",
    "data = pd.read_excel(io = file,\n",
    "                       sheet_name = sheet_name,\n",
    "                       header = 0,\n",
    "                       usecols = use_cols)\n",
    "data.head()"
   ]
  },
  {
   "cell_type": "code",
   "execution_count": null,
   "id": "d638a337",
   "metadata": {},
   "outputs": [],
   "source": [
    "# extract the shape of the data\n",
    "size = data_1.shape[0]\n",
    "print(size)"
   ]
  },
  {
   "cell_type": "code",
   "execution_count": null,
   "id": "134eec30",
   "metadata": {},
   "outputs": [],
   "source": [
    "# create lists for cluster numbers\n",
    "int_topo = [0] * size\n",
    "int_ang = [0] * size\n",
    "int_CWM_1 = [0] * size\n",
    "int_CWM_2 = [0] * size\n",
    "int_CWM_3 = [0] * size\n",
    "int_CWM_4 = [0] * size\n",
    "int_CWM_5 = [0] * size\n",
    "int_CWM_6 = [0] * size"
   ]
  },
  {
   "cell_type": "code",
   "execution_count": null,
   "id": "92eb1693",
   "metadata": {},
   "outputs": [],
   "source": [
    "# set threshold for the clustering algorithm\n",
    "threshold = 0.6"
   ]
  },
  {
   "cell_type": "code",
   "execution_count": null,
   "id": "0537d7fd",
   "metadata": {},
   "outputs": [],
   "source": [
    "# the algorithm itself\n",
    "# change source and target lists according to the column analyzed\n",
    "source_list = data.iloc[:,0].tolist()\n",
    "target_list = int_topo\n",
    "\n",
    "temp_mean = st.mean(source_list)\n",
    "head_len = data_len = len(source_list)\n",
    "i = 1\n",
    "temp_list = []\n",
    "while True:\n",
    "    print(head_len, data_len)\n",
    "    for j in range(size):\n",
    "        if source_list[j] <= temp_mean and target_list[j] == 0:\n",
    "            target_list[j] = i\n",
    "            head_len = head_len-1\n",
    "        else:\n",
    "            temp_list.append(source_list[j])\n",
    "    temp_mean = st.mean(temp_list)\n",
    "    print(head_len, data_len)\n",
    "    print(head_len/data_len)\n",
    "    if head_len/data_len < threshold:\n",
    "        i = i+1\n",
    "        data_len = head_len\n",
    "    else:\n",
    "        print('ht index is', i)\n",
    "        break"
   ]
  },
  {
   "cell_type": "code",
   "execution_count": null,
   "id": "16aa7ff5",
   "metadata": {},
   "outputs": [],
   "source": [
    "# sum up all the integration lists\n",
    "summary = pd.DataFrame(list(zip(int_topo,\n",
    "                                int_ang,\n",
    "                                int_CWM_1,\n",
    "                                int_CWM_2,\n",
    "                                int_CWM_3,\n",
    "                                int_CWM_4,\n",
    "                                int_CWM_5,\n",
    "                                int_CWM_6)),\n",
    "                     columns = ['int_topo',\n",
    "                                'int_ang',\n",
    "                                'int_CWM_1',\n",
    "                                'int_CWM_2',\n",
    "                                'int_CWM_3',\n",
    "                                'int_CWM_4',\n",
    "                                'int_CWM_5',\n",
    "                                'int_CWM_6'])\n",
    "summary.head(10)"
   ]
  },
  {
   "cell_type": "code",
   "execution_count": null,
   "id": "4ae0c35c",
   "metadata": {},
   "outputs": [],
   "source": [
    "summary.to_excel(output, index = False)"
   ]
  }
 ],
 "metadata": {
  "kernelspec": {
   "display_name": "Python 3 (ipykernel)",
   "language": "python",
   "name": "python3"
  },
  "language_info": {
   "codemirror_mode": {
    "name": "ipython",
    "version": 3
   },
   "file_extension": ".py",
   "mimetype": "text/x-python",
   "name": "python",
   "nbconvert_exporter": "python",
   "pygments_lexer": "ipython3",
   "version": "3.8.8"
  }
 },
 "nbformat": 4,
 "nbformat_minor": 5
}
