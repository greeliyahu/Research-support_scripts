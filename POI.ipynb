{
 "cells": [
  {
   "cell_type": "code",
   "execution_count": null,
   "metadata": {},
   "outputs": [],
   "source": [
    "### POI ###"
   ]
  },
  {
   "cell_type": "code",
   "execution_count": null,
   "metadata": {},
   "outputs": [],
   "source": [
    "import osmnx as ox\n",
    "import geopandas as gpd\n",
    "from shapely.geometry import Point, LineString, Polygon"
   ]
  },
  {
   "cell_type": "code",
   "execution_count": null,
   "metadata": {},
   "outputs": [],
   "source": [
    "# set coords in epsg:4326 and radius in meters\n",
    "# coords = (41.146099, -8.610943) # Porto, metris crs - EPSG:3763\n",
    "# coords = (38.713622, -9.139358) # Lisbon, metris crs - EPSG:3763\n",
    "coords = (37.787889, -122.407698) # San Francisco, metris crs - EPSG:7131\n",
    "# coords = (22.326565, 114.167448) # Hong Kong, metris crs - EPSG:2326\n",
    "radius = 1000"
   ]
  },
  {
   "cell_type": "code",
   "execution_count": null,
   "metadata": {},
   "outputs": [],
   "source": [
    "# create bounding box from coordinates and radius\n",
    "box = ox.utils_geo.bbox_from_point(coords, radius)"
   ]
  },
  {
   "cell_type": "code",
   "execution_count": null,
   "metadata": {},
   "outputs": [],
   "source": [
    "# set path variables\n",
    "folder = r'C:/folder'\n",
    "# export to this file\n",
    "path = folder + '/SF_POI.csv'"
   ]
  },
  {
   "cell_type": "code",
   "execution_count": null,
   "metadata": {},
   "outputs": [],
   "source": [
    "# tag-label combo 1\n",
    "key_1 = 'amenity'\n",
    "tags_1 = ['arts_centre', 'bank', 'bar', 'bbq', 'animal_boarding', 'animal_breeding', 'bicycle_rental',\n",
    "          'bicycle_repair_station', 'biergarten', 'boat_rental', 'bureau_de_change', 'cafe', 'car_rental','casino',\n",
    "          'car_sharing', 'car_pooling', 'childcare', 'cinema', 'clinic', 'college', 'community_centre', 'conference_centre',\n",
    "          'coworking_space', 'dancing_school', 'dentist', 'dive_centre', 'doctors', 'dojo', 'embassy', 'events_venue',\n",
    "          'fast_food', 'drinking_water', 'feeding_place', 'food_court', 'gambling', 'hospital', 'ice_cream', 'internet_cafe',\n",
    "          'kindergarten', 'language_school', 'library', 'lavoir', 'lounger', 'marketplace', 'money_transfer', 'music_school',\n",
    "          'nightclub', 'nursing_home', 'payment_centre', 'payment_terminal', 'pharmacy', 'photo_booth', 'place_of_worship',\n",
    "          'planetarium', 'police, post_box', 'post_office', 'pub', 'prep_school', 'public_bath', 'public_bookcase',\n",
    "          'public_building', 'recycling', 'restaurant', 'school', 'shower', 'social_centre', 'shelter', 'smoking_area',\n",
    "          'stripclub', 'studio', 'swingerclub', 'theatre', 'toilets', 'townhall', 'university', 'toy_library',\n",
    "          'vacuum_cleaner', 'vending_machine', 'veterinary', 'youth_centre', 'watering_place']"
   ]
  },
  {
   "cell_type": "code",
   "execution_count": null,
   "metadata": {},
   "outputs": [],
   "source": [
    "# tag-label combo 2\n",
    "key_2 = 'beauty'\n",
    "tags_2 = 'nails'"
   ]
  },
  {
   "cell_type": "code",
   "execution_count": null,
   "metadata": {},
   "outputs": [],
   "source": [
    "# tag-label combo 3\n",
    "key_3 = 'building'\n",
    "tags_3 = ['retail', 'wayside_shrine', 'temple', 'synagogue', 'mosque', 'hotel', 'commercial', 'church', 'chapel',\n",
    "          'cathedral', 'basilica']"
   ]
  },
  {
   "cell_type": "code",
   "execution_count": null,
   "metadata": {},
   "outputs": [],
   "source": [
    "# tag-label combo 4\n",
    "key_4 = 'craft'\n",
    "tags_4 = ['basket_maker', 'blacksmith', 'bookbinder', 'brewery', 'cabinet_maker', 'caterer', 'carpenter', 'carpet_layer',\n",
    "          'cleaning', 'clockmaker', 'confectionery', 'floorer', 'distillery', 'dressmaker', 'electrician',\n",
    "          'electronics_repair', 'furniture', 'gardener', 'glass', 'glaziery', 'handicraft', 'heating_engineer', 'hvac',\n",
    "          'joiner', 'insulation', 'jeweller', 'key_cutter', 'laboratory', 'leather', 'locksmith', 'optician', 'painter',\n",
    "          'photo_studio', 'photographer', 'photographic_laboratory', 'plumber', 'pottery', 'print_shop', 'rigger', 'saddler',\n",
    "          'sculptor', 'shoemaker', 'tailor', 'upholsterer', 'watchmaker']"
   ]
  },
  {
   "cell_type": "code",
   "execution_count": null,
   "metadata": {},
   "outputs": [],
   "source": [
    "# tag-label combo 5\n",
    "key_5 = 'emergency'\n",
    "tags_5 = ['ambulance_station', 'emergency_ward_entrance']"
   ]
  },
  {
   "cell_type": "code",
   "execution_count": null,
   "metadata": {},
   "outputs": [],
   "source": [
    "# tag-label combo 6\n",
    "key_6 = 'industrial'\n",
    "tags_6 = ['bakery', 'brewery', 'distributor', 'machine_shop']"
   ]
  },
  {
   "cell_type": "code",
   "execution_count": null,
   "metadata": {},
   "outputs": [],
   "source": [
    "# tag-label combo 7\n",
    "key_7 = 'leisure'\n",
    "tags_7 = ['adult_gaming_centre', 'amusement_arcade', 'bandstand', 'beach_resort', 'bleachers', 'bowling_alley', 'dance',\n",
    "          'escape_game', 'fitness_centre', 'ice_rink', 'fitness_station', 'miniature_golf', 'playground', 'resort', 'sauna',\n",
    "          'stadium', 'sports_centre', 'swimming_pool', 'tanning_salon']"
   ]
  },
  {
   "cell_type": "code",
   "execution_count": null,
   "metadata": {},
   "outputs": [],
   "source": [
    "# tag-label combo 8\n",
    "key_8 = 'tourism'\n",
    "tags_8 = ['apartement', 'apartment', 'aquarium', 'artwork', 'gallery', 'guest_house', 'hostel', 'hotel', 'information',\n",
    "          'motel', 'museum']"
   ]
  },
  {
   "cell_type": "code",
   "execution_count": null,
   "metadata": {},
   "outputs": [],
   "source": [
    "# tags with all labels\n",
    "keys_all = ['butcher', 'community_centre', 'cuisine', 'diplomatic', 'emergency_ward_entrance', 'guest_house', 'healthcare',\n",
    "            'healthcare:speciality', 'museum_type', 'office', 'shop', 'social_facility', 'studio', 'wholesale']"
   ]
  },
  {
   "cell_type": "code",
   "execution_count": null,
   "metadata": {},
   "outputs": [],
   "source": [
    "# download POIs\n",
    "poi = ox.geometries.geometries_from_bbox(box[0],\n",
    "                                        box[1],\n",
    "                                        box[2],\n",
    "                                        box[3],\n",
    "                                        tags = {key_1: tags_1, key_2: tags_2, key_3: tags_3, key_4: tags_4,\n",
    "                                                key_5: tags_5, key_6: tags_6, key_7: tags_7, key_8: tags_8,\n",
    "                                                keys_all[0]:True, keys_all[1]:True, keys_all[2]:True,\n",
    "                                                keys_all[3]:True, keys_all[4]:True, keys_all[5]:True,\n",
    "                                                keys_all[6]:True, keys_all[7]:True, keys_all[8]:True,\n",
    "                                                keys_all[9]:True, keys_all[10]:True, keys_all[11]:True,\n",
    "                                                keys_all[12]:True, keys_all[13]:True})"
   ]
  },
  {
   "cell_type": "code",
   "execution_count": null,
   "metadata": {},
   "outputs": [],
   "source": [
    "# clean irrelevant fields\n",
    "poi.dropna(axis = 1, inplace = True)\n",
    "print(poi.shape)\n",
    "print(poi.head())"
   ]
  },
  {
   "cell_type": "code",
   "execution_count": null,
   "metadata": {},
   "outputs": [],
   "source": [
    "# list for point entries\n",
    "poi_list = []\n",
    "# remove linestring and polygon geometry entries\n",
    "# the index of the geometry can change according to source layer - it is usually 1 or 2\n",
    "for row in poi.itertuples(name = 'pois'):\n",
    "    if type(row[1]) == Point:\n",
    "        poi_list.append(row)"
   ]
  },
  {
   "cell_type": "code",
   "execution_count": null,
   "metadata": {},
   "outputs": [],
   "source": [
    "# order of columns might change depending on source layer\n",
    "poi_clean = gpd.GeoDataFrame.from_records(poi_list, columns = ['osmid', 'geometry'])\n",
    "poi_clean.drop_duplicates(subset = ['geometry'], inplace = True)\n",
    "poi_clean = poi_clean.set_crs('epsg:4326')"
   ]
  },
  {
   "cell_type": "code",
   "execution_count": null,
   "metadata": {},
   "outputs": [],
   "source": [
    "# re-project streets to the proper metric crs\n",
    "poi_clean.to_crs('epsg:7131', inplace = True)\n",
    "poi_clean = poi_clean['geometry']\n",
    "poi_clean.head()"
   ]
  },
  {
   "cell_type": "code",
   "execution_count": null,
   "metadata": {},
   "outputs": [],
   "source": [
    "# export csv\n",
    "poi_clean.to_csv(path, sep = '~', na_rep = 'NaN', header = False, index = False, encoding = 'utf-8')"
   ]
  }
 ],
 "metadata": {
  "celltoolbar": "Raw Cell Format",
  "kernelspec": {
   "display_name": "Python 3 (ipykernel)",
   "language": "python",
   "name": "python3"
  },
  "language_info": {
   "codemirror_mode": {
    "name": "ipython",
    "version": 3
   },
   "file_extension": ".py",
   "mimetype": "text/x-python",
   "name": "python",
   "nbconvert_exporter": "python",
   "pygments_lexer": "ipython3",
   "version": "3.8.8"
  }
 },
 "nbformat": 4,
 "nbformat_minor": 2
}
