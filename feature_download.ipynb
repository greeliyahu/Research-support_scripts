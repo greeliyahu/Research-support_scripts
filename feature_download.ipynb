{
 "cells": [
  {
   "cell_type": "code",
   "execution_count": null,
   "metadata": {},
   "outputs": [],
   "source": [
    "### Download buildings and streets from OSM ###"
   ]
  },
  {
   "cell_type": "code",
   "execution_count": null,
   "metadata": {},
   "outputs": [],
   "source": [
    "import osmnx as ox\n",
    "import geopandas as gpd\n",
    "from shapely.geometry import Point, LineString, Polygon"
   ]
  },
  {
   "cell_type": "code",
   "execution_count": null,
   "metadata": {},
   "outputs": [],
   "source": [
    "# set coords in epsg:4326 (WGS84) and radius in meters\n",
    "# coords = (41.146099, -8.610943) # Porto, metris crs - EPSG:3763\n",
    "# coords = (38.713622, -9.139358) # Lisbon, metris crs - EPSG:3763\n",
    "# coords = (37.787889, -122.407698) # San Francisco, metris crs - EPSG:7131\n",
    "coords = (22.326565, 114.167448) # Hong Kong, metris crs - EPSG:2326\n",
    "radius = 2000"
   ]
  },
  {
   "cell_type": "code",
   "execution_count": null,
   "metadata": {},
   "outputs": [],
   "source": [
    "# create bounding box from coordinates and radius\n",
    "box = ox.utils_geo.bbox_from_point(coords, radius)"
   ]
  },
  {
   "cell_type": "code",
   "execution_count": null,
   "metadata": {},
   "outputs": [],
   "source": [
    "# set path variables\n",
    "folder = r'C:/folder'\n",
    "# export to these files according to geometry type\n",
    "path_0 = folder + '/HK_buildings.csv' \n",
    "path_1 = folder + '/HK_streets_lines.csv'\n",
    "path_2 = folder + '/HK_streets_polygons.csv'"
   ]
  },
  {
   "cell_type": "code",
   "execution_count": null,
   "metadata": {},
   "outputs": [],
   "source": [
    "# download buildings with double the radius\n",
    "buildings = ox.geometries.geometries_from_bbox(box[0],\n",
    "                                               box[1],\n",
    "                                               box[2],\n",
    "                                               box[3],\n",
    "                                               tags={'building': True})                                          \n",
    "print(buildings.head())"
   ]
  },
  {
   "cell_type": "code",
   "execution_count": null,
   "metadata": {},
   "outputs": [],
   "source": [
    "# clean irrelevant fields from buildings\n",
    "buildings.dropna(axis = 1, inplace = True)\n",
    "\n",
    "# remove point geometry entries\n",
    "for row in buildings.itertuples(name = 'road'):\n",
    "    if type(row[1]) == Point:\n",
    "        buildings.drop(axis = 0, index = row[0], inplace = True)\n",
    "print(buildings.head())\n",
    "print(buildings.shape)"
   ]
  },
  {
   "cell_type": "code",
   "execution_count": null,
   "metadata": {},
   "outputs": [],
   "source": [
    "# re-project buildings to the proper metric crs\n",
    "buildings.to_crs('epsg:2326', inplace = True)\n",
    "buildings.head()"
   ]
  },
  {
   "cell_type": "code",
   "execution_count": null,
   "metadata": {},
   "outputs": [],
   "source": [
    "# export csv\n",
    "buildings.to_csv(path_0, sep = '~', na_rep = 'NaN', header = False, index = False, encoding = 'utf-8')"
   ]
  },
  {
   "cell_type": "code",
   "execution_count": null,
   "metadata": {},
   "outputs": [],
   "source": [
    "# download street network with double the radius for better accuracy of centrality calculations\n",
    "streets = ox.geometries.geometries_from_bbox(box[0],\n",
    "                                             box[1],\n",
    "                                             box[2],\n",
    "                                             box[3],\n",
    "                                             tags={'highway': True})"
   ]
  },
  {
   "cell_type": "code",
   "execution_count": null,
   "metadata": {},
   "outputs": [],
   "source": [
    "# clean irrelevant fields from streets\n",
    "streets = streets.dropna(axis = 1)\n",
    "streets.head()"
   ]
  },
  {
   "cell_type": "code",
   "execution_count": null,
   "metadata": {},
   "outputs": [],
   "source": [
    "# list for linestring entries\n",
    "streets_l_list = []\n",
    "# remove point and polygon geometry entries\n",
    "# the index of the geometry can change according to source layer - it is usually 1 or 2\n",
    "for row in streets.itertuples(name = 'road'):\n",
    "    if type(row[1]) == LineString:\n",
    "        streets_l_list.append(row)"
   ]
  },
  {
   "cell_type": "code",
   "execution_count": null,
   "metadata": {},
   "outputs": [],
   "source": [
    "# order of columns might change depending on source layer\n",
    "streets_l = gpd.GeoDataFrame.from_records(streets_l_list, columns = ['osmid', 'geometry', 'highway'])\n",
    "streets_l.set_crs('epsg:4326', inplace = True)"
   ]
  },
  {
   "cell_type": "code",
   "execution_count": null,
   "metadata": {},
   "outputs": [],
   "source": [
    "# re-project streets to the proper metric crs\n",
    "streets_l.to_crs('epsg:2326', inplace = True)\n",
    "streets_l = streets_l[['geometry', 'highway']]"
   ]
  },
  {
   "cell_type": "code",
   "execution_count": null,
   "metadata": {},
   "outputs": [],
   "source": [
    "# export csv linestring\n",
    "streets_l.to_csv(path_1, sep = '~', na_rep = 'NaN', header = False, index = False, encoding = 'utf-8')"
   ]
  },
  {
   "cell_type": "code",
   "execution_count": null,
   "metadata": {},
   "outputs": [],
   "source": [
    "# list for polygon entries\n",
    "streets_p_list = []\n",
    "# remove point and linestring geometry entries\n",
    "# the index of the geometry can change according to source layer - it is usually 1 or 2\n",
    "for row in streets.itertuples(name = 'road'):\n",
    "    if type(row[1]) == Polygon:\n",
    "        streets_p_list.append(row)"
   ]
  },
  {
   "cell_type": "code",
   "execution_count": null,
   "metadata": {},
   "outputs": [],
   "source": [
    "# order of columns might change depending on source layer\n",
    "streets_p = gpd.GeoDataFrame.from_records(streets_p_list, columns = ['osmid', 'geometry','highway'])\n",
    "streets_p.set_crs('epsg:4326', inplace = True)"
   ]
  },
  {
   "cell_type": "code",
   "execution_count": null,
   "metadata": {},
   "outputs": [],
   "source": [
    "# re-project streets to the proper metric crs\n",
    "streets_p.to_crs('epsg:2326', inplace = True)\n",
    "streets_p = streets_p[['geometry', 'highway']]"
   ]
  },
  {
   "cell_type": "code",
   "execution_count": null,
   "metadata": {},
   "outputs": [],
   "source": [
    "# export csv polygon\n",
    "streets_p.to_csv(path_2, sep = '~', na_rep = 'NaN', header = False, index = False, encoding = 'utf-8')"
   ]
  }
 ],
 "metadata": {
  "celltoolbar": "Raw Cell Format",
  "kernelspec": {
   "display_name": "Python 3 (ipykernel)",
   "language": "python",
   "name": "python3"
  },
  "language_info": {
   "codemirror_mode": {
    "name": "ipython",
    "version": 3
   },
   "file_extension": ".py",
   "mimetype": "text/x-python",
   "name": "python",
   "nbconvert_exporter": "python",
   "pygments_lexer": "ipython3",
   "version": "3.8.8"
  }
 },
 "nbformat": 4,
 "nbformat_minor": 2
}
