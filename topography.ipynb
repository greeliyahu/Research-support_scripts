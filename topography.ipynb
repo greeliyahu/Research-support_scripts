{
 "cells": [
  {
   "cell_type": "code",
   "execution_count": null,
   "metadata": {},
   "outputs": [],
   "source": [
    "### TOPOGRAPHY ###"
   ]
  },
  {
   "cell_type": "code",
   "execution_count": 1,
   "metadata": {},
   "outputs": [],
   "source": [
    "import geopandas as gpd\n",
    "import georasters as grs\n",
    "import pandas as pd\n",
    "from shapely.geometry import Point, Polygon"
   ]
  },
  {
   "cell_type": "code",
   "execution_count": 2,
   "metadata": {},
   "outputs": [],
   "source": [
    "# set coords in the proper metric crs and radius in meters\n",
    "# coords = (-40113.87, 164213.15) # Porto, metris crs - EPSG:3763\n",
    "# coords = (-87519, -105502) # Lisbon, metris crs - EPSG:3763\n",
    "# coords = (51726.18613283, 28206.23996747) # San Francisco, metris crs - EPSG:7131\n",
    "coords = (835296.86, 820837.43) # Hong Kong, metris crs - EPSG:2326\n",
    "\n",
    "center = gpd.GeoDataFrame(geometry = [Point(coords)],\n",
    "                          crs = 'epsg:2326')\n",
    "radius = 2000\n",
    "\n",
    "# metric dimensions for the topography grid\n",
    "max_x = coords[0] + radius\n",
    "max_y = coords[1] + radius\n",
    "min_x = coords[0] - radius\n",
    "min_y = coords[1] - radius\n",
    "\n",
    "mask = gpd.GeoDataFrame(geometry = [Polygon([(max_x, max_y), (max_x, min_y), (min_x, min_y), (min_x, max_y)])],\n",
    "                        crs = 'epsg:2326')"
   ]
  },
  {
   "cell_type": "code",
   "execution_count": 5,
   "metadata": {},
   "outputs": [
    {
     "name": "stdout",
     "output_type": "stream",
     "text": [
      "C:\\Eli\\Arch\\PhD\\Papers\\3\\topo\\hong_kong_clipped_m.tif\n"
     ]
    }
   ],
   "source": [
    "# set path variables\n",
    "folder = r'C:/folder'\n",
    "file = '/hong_kong_clipped_m.tif'\n",
    "path = folder + file\n",
    "output = folder + '/HK_topo.csv'"
   ]
  },
  {
   "cell_type": "code",
   "execution_count": 6,
   "metadata": {},
   "outputs": [],
   "source": [
    "# load elevation data\n",
    "data = grs.from_file(path)"
   ]
  },
  {
   "cell_type": "code",
   "execution_count": 7,
   "metadata": {},
   "outputs": [
    {
     "data": {
      "text/html": [
       "<div>\n",
       "<style scoped>\n",
       "    .dataframe tbody tr th:only-of-type {\n",
       "        vertical-align: middle;\n",
       "    }\n",
       "\n",
       "    .dataframe tbody tr th {\n",
       "        vertical-align: top;\n",
       "    }\n",
       "\n",
       "    .dataframe thead th {\n",
       "        text-align: right;\n",
       "    }\n",
       "</style>\n",
       "<table border=\"1\" class=\"dataframe\">\n",
       "  <thead>\n",
       "    <tr style=\"text-align: right;\">\n",
       "      <th></th>\n",
       "      <th>row</th>\n",
       "      <th>col</th>\n",
       "      <th>value</th>\n",
       "      <th>x</th>\n",
       "      <th>y</th>\n",
       "    </tr>\n",
       "  </thead>\n",
       "  <tbody>\n",
       "    <tr>\n",
       "      <th>0</th>\n",
       "      <td>0</td>\n",
       "      <td>1</td>\n",
       "      <td>3.0</td>\n",
       "      <td>818213.738911</td>\n",
       "      <td>833961.58007</td>\n",
       "    </tr>\n",
       "    <tr>\n",
       "      <th>1</th>\n",
       "      <td>0</td>\n",
       "      <td>2</td>\n",
       "      <td>3.0</td>\n",
       "      <td>818242.930281</td>\n",
       "      <td>833961.58007</td>\n",
       "    </tr>\n",
       "    <tr>\n",
       "      <th>2</th>\n",
       "      <td>0</td>\n",
       "      <td>3</td>\n",
       "      <td>2.0</td>\n",
       "      <td>818272.121650</td>\n",
       "      <td>833961.58007</td>\n",
       "    </tr>\n",
       "    <tr>\n",
       "      <th>3</th>\n",
       "      <td>0</td>\n",
       "      <td>4</td>\n",
       "      <td>3.0</td>\n",
       "      <td>818301.313019</td>\n",
       "      <td>833961.58007</td>\n",
       "    </tr>\n",
       "    <tr>\n",
       "      <th>4</th>\n",
       "      <td>0</td>\n",
       "      <td>5</td>\n",
       "      <td>8.0</td>\n",
       "      <td>818330.504389</td>\n",
       "      <td>833961.58007</td>\n",
       "    </tr>\n",
       "    <tr>\n",
       "      <th>5</th>\n",
       "      <td>0</td>\n",
       "      <td>6</td>\n",
       "      <td>8.0</td>\n",
       "      <td>818359.695758</td>\n",
       "      <td>833961.58007</td>\n",
       "    </tr>\n",
       "    <tr>\n",
       "      <th>6</th>\n",
       "      <td>0</td>\n",
       "      <td>7</td>\n",
       "      <td>11.0</td>\n",
       "      <td>818388.887127</td>\n",
       "      <td>833961.58007</td>\n",
       "    </tr>\n",
       "    <tr>\n",
       "      <th>7</th>\n",
       "      <td>0</td>\n",
       "      <td>8</td>\n",
       "      <td>11.0</td>\n",
       "      <td>818418.078497</td>\n",
       "      <td>833961.58007</td>\n",
       "    </tr>\n",
       "    <tr>\n",
       "      <th>8</th>\n",
       "      <td>0</td>\n",
       "      <td>9</td>\n",
       "      <td>10.0</td>\n",
       "      <td>818447.269866</td>\n",
       "      <td>833961.58007</td>\n",
       "    </tr>\n",
       "    <tr>\n",
       "      <th>9</th>\n",
       "      <td>0</td>\n",
       "      <td>10</td>\n",
       "      <td>6.0</td>\n",
       "      <td>818476.461235</td>\n",
       "      <td>833961.58007</td>\n",
       "    </tr>\n",
       "  </tbody>\n",
       "</table>\n",
       "</div>"
      ],
      "text/plain": [
       "   row  col  value              x             y\n",
       "0    0    1    3.0  818213.738911  833961.58007\n",
       "1    0    2    3.0  818242.930281  833961.58007\n",
       "2    0    3    2.0  818272.121650  833961.58007\n",
       "3    0    4    3.0  818301.313019  833961.58007\n",
       "4    0    5    8.0  818330.504389  833961.58007\n",
       "5    0    6    8.0  818359.695758  833961.58007\n",
       "6    0    7   11.0  818388.887127  833961.58007\n",
       "7    0    8   11.0  818418.078497  833961.58007\n",
       "8    0    9   10.0  818447.269866  833961.58007\n",
       "9    0   10    6.0  818476.461235  833961.58007"
      ]
     },
     "execution_count": 7,
     "metadata": {},
     "output_type": "execute_result"
    }
   ],
   "source": [
    "# turn to pandas dataframe\n",
    "df = data.to_pandas()\n",
    "df.head(10)"
   ]
  },
  {
   "cell_type": "code",
   "execution_count": 8,
   "metadata": {},
   "outputs": [
    {
     "name": "stdout",
     "output_type": "stream",
     "text": [
      "   row  col  value              x             y                       geometry\n",
      "0    0    1    3.0  818213.738911  833961.58007  POINT (818213.739 833961.580)\n",
      "1    0    2    3.0  818242.930281  833961.58007  POINT (818242.930 833961.580)\n",
      "2    0    3    2.0  818272.121650  833961.58007  POINT (818272.122 833961.580)\n",
      "3    0    4    3.0  818301.313019  833961.58007  POINT (818301.313 833961.580)\n",
      "4    0    5    8.0  818330.504389  833961.58007  POINT (818330.504 833961.580)\n",
      "5    0    6    8.0  818359.695758  833961.58007  POINT (818359.696 833961.580)\n",
      "6    0    7   11.0  818388.887127  833961.58007  POINT (818388.887 833961.580)\n",
      "7    0    8   11.0  818418.078497  833961.58007  POINT (818418.078 833961.580)\n",
      "8    0    9   10.0  818447.269866  833961.58007  POINT (818447.270 833961.580)\n",
      "9    0   10    6.0  818476.461235  833961.58007  POINT (818476.461 833961.580)\n",
      "(1557026, 6)\n"
     ]
    }
   ],
   "source": [
    "# create point geometry and set crs\n",
    "gdf = gpd.GeoDataFrame(df,\n",
    "                       geometry = gpd.points_from_xy(df.x, df.y),\n",
    "                       crs = 2326)\n",
    "print(gdf.head(10))\n",
    "print(gdf.shape)"
   ]
  },
  {
   "cell_type": "code",
   "execution_count": 9,
   "metadata": {
    "scrolled": true
   },
   "outputs": [
    {
     "name": "stdout",
     "output_type": "stream",
     "text": [
      "(18769, 6)\n"
     ]
    },
    {
     "data": {
      "text/html": [
       "<div>\n",
       "<style scoped>\n",
       "    .dataframe tbody tr th:only-of-type {\n",
       "        vertical-align: middle;\n",
       "    }\n",
       "\n",
       "    .dataframe tbody tr th {\n",
       "        vertical-align: top;\n",
       "    }\n",
       "\n",
       "    .dataframe thead th {\n",
       "        text-align: right;\n",
       "    }\n",
       "</style>\n",
       "<table border=\"1\" class=\"dataframe\">\n",
       "  <thead>\n",
       "    <tr style=\"text-align: right;\">\n",
       "      <th></th>\n",
       "      <th>row</th>\n",
       "      <th>col</th>\n",
       "      <th>value</th>\n",
       "      <th>x</th>\n",
       "      <th>y</th>\n",
       "      <th>geometry</th>\n",
       "    </tr>\n",
       "  </thead>\n",
       "  <tbody>\n",
       "    <tr>\n",
       "      <th>596398</th>\n",
       "      <td>382</td>\n",
       "      <td>518</td>\n",
       "      <td>109.0</td>\n",
       "      <td>833305.676863</td>\n",
       "      <td>822810.47698</td>\n",
       "      <td>POINT (833305.677 822810.477)</td>\n",
       "    </tr>\n",
       "    <tr>\n",
       "      <th>596399</th>\n",
       "      <td>382</td>\n",
       "      <td>519</td>\n",
       "      <td>116.0</td>\n",
       "      <td>833334.868232</td>\n",
       "      <td>822810.47698</td>\n",
       "      <td>POINT (833334.868 822810.477)</td>\n",
       "    </tr>\n",
       "    <tr>\n",
       "      <th>596400</th>\n",
       "      <td>382</td>\n",
       "      <td>520</td>\n",
       "      <td>118.0</td>\n",
       "      <td>833364.059602</td>\n",
       "      <td>822810.47698</td>\n",
       "      <td>POINT (833364.060 822810.477)</td>\n",
       "    </tr>\n",
       "    <tr>\n",
       "      <th>596401</th>\n",
       "      <td>382</td>\n",
       "      <td>521</td>\n",
       "      <td>119.0</td>\n",
       "      <td>833393.250971</td>\n",
       "      <td>822810.47698</td>\n",
       "      <td>POINT (833393.251 822810.477)</td>\n",
       "    </tr>\n",
       "    <tr>\n",
       "      <th>596402</th>\n",
       "      <td>382</td>\n",
       "      <td>522</td>\n",
       "      <td>128.0</td>\n",
       "      <td>833422.442340</td>\n",
       "      <td>822810.47698</td>\n",
       "      <td>POINT (833422.442 822810.477)</td>\n",
       "    </tr>\n",
       "  </tbody>\n",
       "</table>\n",
       "</div>"
      ],
      "text/plain": [
       "        row  col  value              x             y  \\\n",
       "596398  382  518  109.0  833305.676863  822810.47698   \n",
       "596399  382  519  116.0  833334.868232  822810.47698   \n",
       "596400  382  520  118.0  833364.059602  822810.47698   \n",
       "596401  382  521  119.0  833393.250971  822810.47698   \n",
       "596402  382  522  128.0  833422.442340  822810.47698   \n",
       "\n",
       "                             geometry  \n",
       "596398  POINT (833305.677 822810.477)  \n",
       "596399  POINT (833334.868 822810.477)  \n",
       "596400  POINT (833364.060 822810.477)  \n",
       "596401  POINT (833393.251 822810.477)  \n",
       "596402  POINT (833422.442 822810.477)  "
      ]
     },
     "execution_count": 9,
     "metadata": {},
     "output_type": "execute_result"
    }
   ],
   "source": [
    "# intersect the topography with the bounding box\n",
    "area = gdf.sjoin(mask, how = 'left', predicate = 'intersects')\n",
    "area = area[area.index_right.notnull()]\n",
    "area.drop(columns = 'index_right', inplace = True)\n",
    "print(area.shape)\n",
    "area.head()"
   ]
  },
  {
   "cell_type": "code",
   "execution_count": 10,
   "metadata": {},
   "outputs": [
    {
     "name": "stdout",
     "output_type": "stream",
     "text": [
      "136\n",
      "136\n"
     ]
    }
   ],
   "source": [
    "# find grid dimensions\n",
    "u = (area['row'].max()) - (area['row'].min())\n",
    "v = (area['col'].max()) - (area['col'].min())\n",
    "print(u)\n",
    "print(v)\n",
    "# Value u+1 should be used as U in SrfGrid GH component."
   ]
  },
  {
   "cell_type": "code",
   "execution_count": 11,
   "metadata": {},
   "outputs": [],
   "source": [
    "point_series = area.iloc[:,-1].tolist()\n",
    "x_vals = []\n",
    "y_vals = []\n",
    "z_vals = []\n",
    "row = area.iloc[:, 0].tolist()\n",
    "col = area.iloc[:, 1].tolist()\n",
    "for i, pt in enumerate(point_series):\n",
    "    x_vals.append(pt.coords[0][0])\n",
    "    y_vals.append(pt.coords[0][1])\n",
    "    z_vals.append(area.iloc[i, 2])"
   ]
  },
  {
   "cell_type": "code",
   "execution_count": 12,
   "metadata": {},
   "outputs": [
    {
     "name": "stdout",
     "output_type": "stream",
     "text": [
      "(18769, 5)\n"
     ]
    },
    {
     "data": {
      "text/html": [
       "<div>\n",
       "<style scoped>\n",
       "    .dataframe tbody tr th:only-of-type {\n",
       "        vertical-align: middle;\n",
       "    }\n",
       "\n",
       "    .dataframe tbody tr th {\n",
       "        vertical-align: top;\n",
       "    }\n",
       "\n",
       "    .dataframe thead th {\n",
       "        text-align: right;\n",
       "    }\n",
       "</style>\n",
       "<table border=\"1\" class=\"dataframe\">\n",
       "  <thead>\n",
       "    <tr style=\"text-align: right;\">\n",
       "      <th></th>\n",
       "      <th>x</th>\n",
       "      <th>y</th>\n",
       "      <th>z</th>\n",
       "      <th>col</th>\n",
       "      <th>row</th>\n",
       "    </tr>\n",
       "  </thead>\n",
       "  <tbody>\n",
       "    <tr>\n",
       "      <th>0</th>\n",
       "      <td>833305.676863</td>\n",
       "      <td>822810.47698</td>\n",
       "      <td>109.0</td>\n",
       "      <td>518</td>\n",
       "      <td>382</td>\n",
       "    </tr>\n",
       "    <tr>\n",
       "      <th>1</th>\n",
       "      <td>833334.868232</td>\n",
       "      <td>822810.47698</td>\n",
       "      <td>116.0</td>\n",
       "      <td>519</td>\n",
       "      <td>382</td>\n",
       "    </tr>\n",
       "    <tr>\n",
       "      <th>2</th>\n",
       "      <td>833364.059602</td>\n",
       "      <td>822810.47698</td>\n",
       "      <td>118.0</td>\n",
       "      <td>520</td>\n",
       "      <td>382</td>\n",
       "    </tr>\n",
       "    <tr>\n",
       "      <th>3</th>\n",
       "      <td>833393.250971</td>\n",
       "      <td>822810.47698</td>\n",
       "      <td>119.0</td>\n",
       "      <td>521</td>\n",
       "      <td>382</td>\n",
       "    </tr>\n",
       "    <tr>\n",
       "      <th>4</th>\n",
       "      <td>833422.442340</td>\n",
       "      <td>822810.47698</td>\n",
       "      <td>128.0</td>\n",
       "      <td>522</td>\n",
       "      <td>382</td>\n",
       "    </tr>\n",
       "  </tbody>\n",
       "</table>\n",
       "</div>"
      ],
      "text/plain": [
       "               x             y      z  col  row\n",
       "0  833305.676863  822810.47698  109.0  518  382\n",
       "1  833334.868232  822810.47698  116.0  519  382\n",
       "2  833364.059602  822810.47698  118.0  520  382\n",
       "3  833393.250971  822810.47698  119.0  521  382\n",
       "4  833422.442340  822810.47698  128.0  522  382"
      ]
     },
     "execution_count": 12,
     "metadata": {},
     "output_type": "execute_result"
    }
   ],
   "source": [
    "data_dict = {'x': x_vals, 'y': y_vals, 'z': z_vals, 'col': col, 'row': row}\n",
    "point_map = pd.DataFrame(data = data_dict)\n",
    "print(point_map.shape)\n",
    "point_map.head()"
   ]
  },
  {
   "cell_type": "code",
   "execution_count": 13,
   "metadata": {},
   "outputs": [],
   "source": [
    "# export csv\n",
    "point_map.to_csv(path_or_buf = output, header = False, index = False, encoding = 'utf8', line_terminator = '')"
   ]
  },
  {
   "cell_type": "code",
   "execution_count": 14,
   "metadata": {},
   "outputs": [],
   "source": [
    "# add grid dimensions to the csv file\n",
    "file = open(output, 'a')\n",
    "file.write(str(u+1))\n",
    "file.write('\\n')\n",
    "file.close()"
   ]
  }
 ],
 "metadata": {
  "kernelspec": {
   "display_name": "Python 3 (ipykernel)",
   "language": "python",
   "name": "python3"
  },
  "language_info": {
   "codemirror_mode": {
    "name": "ipython",
    "version": 3
   },
   "file_extension": ".py",
   "mimetype": "text/x-python",
   "name": "python",
   "nbconvert_exporter": "python",
   "pygments_lexer": "ipython3",
   "version": "3.8.8"
  }
 },
 "nbformat": 4,
 "nbformat_minor": 2
}
